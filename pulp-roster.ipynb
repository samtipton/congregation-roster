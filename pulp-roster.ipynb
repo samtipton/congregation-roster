{
 "cells": [
  {
   "cell_type": "markdown",
   "id": "56891ebc-b6d5-4617-b648-9f30694218da",
   "metadata": {
    "tags": []
   },
   "source": [
    "# Todos\n",
    "- [x] Change objective function to minimize the average deivation between actual and ideal assignment frequency between within the assignment pool of each task \n",
    "- [x] Update/Record assignment frequency csv\n",
    "- [ ] Assignments for service, weekly, and monthly assginment slots\n",
    "- [ ] Weight assignment favorability (scalar per man to augment assignment frequency)\n",
    "- [ ] Output for html render\n",
    "- [ ] README\n",
    "- [ ] tests\n"
   ]
  },
  {
   "cell_type": "code",
   "execution_count": 435,
   "id": "8d1a42b9-6eba-46c2-a5e5-efab482a6776",
   "metadata": {
    "tags": []
   },
   "outputs": [],
   "source": [
    "import pandas as pd\n",
    "import os\n",
    "from collections import OrderedDict\n",
    "from pulp import LpMaximize, LpProblem, LpVariable, lpSum, value"
   ]
  },
  {
   "cell_type": "code",
   "execution_count": 436,
   "id": "bba9883c-d68c-47b4-aa2d-d4beaf71de0c",
   "metadata": {
    "tags": []
   },
   "outputs": [],
   "source": [
    "# Read eligibility matrix\n",
    "eligibility_df = pd.read_csv('men.csv')\n",
    "eligibility_df.set_index('name', inplace=True)\n",
    "\n",
    "# Read exclusions matrix\n",
    "exclusions_df = pd.read_csv('exclusions.csv', index_col=0)\n",
    "\n",
    "# Past assginment frequency\n",
    "assignments_file = 'previous-assignments.csv'"
   ]
  },
  {
   "cell_type": "code",
   "execution_count": 437,
   "id": "afc15647-a4bc-415e-9a52-3955c8fa5647",
   "metadata": {
    "tags": []
   },
   "outputs": [],
   "source": [
    "# helper functions\n",
    "def is_eligible(person, task) -> bool:\n",
    "    return eligibility_df.loc[person, task] == 1.0"
   ]
  },
  {
   "cell_type": "code",
   "execution_count": 438,
   "id": "a963f851-9cf6-4830-8e38-3db625517d86",
   "metadata": {
    "tags": []
   },
   "outputs": [],
   "source": [
    "# List of people and tasks\n",
    "people = eligibility_df.index\n",
    "\n",
    "tasks = list(eligibility_df.columns)\n",
    "\n",
    "# should try to minimize the deviation from the ideal average\n",
    "ideal_avg = {task: 1/count for task, count in eligibility_df.sum(axis=0).to_dict().items()}"
   ]
  },
  {
   "cell_type": "code",
   "execution_count": 439,
   "id": "5e56af6d-1056-457f-8e14-59950feb39b7",
   "metadata": {
    "tags": []
   },
   "outputs": [],
   "source": [
    "# Initialize or read previous assignments\n",
    "if os.path.exists(assignments_file):\n",
    "    previous_assignments_df = pd.read_csv(assignments_file, index_col=0)\n",
    "else:\n",
    "    previous_assignments_df = pd.DataFrame(0, index=people, columns=tasks)\n",
    "    previous_assignments_df['Rounds'] = 0\n",
    "    \n",
    "previous_assignments_df['Rounds'] += 1\n",
    "\n",
    "\n",
    "# Calculate the average assignment frequency for each task\n",
    "avg_assignments = pd.DataFrame(index=people, columns=tasks)\n",
    "for person in people:\n",
    "    for task in tasks:\n",
    "        avg_assignments.loc[person, task] = previous_assignments_df.loc[person, task] / max(previous_assignments_df.loc[person, 'Rounds'], 1)"
   ]
  },
  {
   "cell_type": "markdown",
   "id": "0356221d-2a7c-43a8-935a-9980d07a8e95",
   "metadata": {},
   "source": [
    "# Problem / Objective"
   ]
  },
  {
   "cell_type": "code",
   "execution_count": 441,
   "id": "f228d617-d4af-49cc-bad1-ad04012e2c3f",
   "metadata": {
    "tags": []
   },
   "outputs": [],
   "source": [
    "# Create the LP problem\n",
    "# We want to choose asignees so as to Maximize the deviation between their historical mean and the ideal mean\n",
    "# Over time, we should converge to everyone having the ideal mean\n",
    "prob = LpProblem(\"Task_Assignment\", LpMaximize)\n",
    "\n",
    "# Define decision variables\n",
    "\n",
    "# assignments \n",
    "x = LpVariable.dicts(\"assign\", ((person, task) for person in people for task in tasks), cat='Binary')\n",
    "\n",
    "###\n",
    "# Objective function: maximize the each persons deviation from the ideal average for each task\n",
    "###\n",
    "prob += lpSum(((ideal_avg[task]) - (previous_assignments_df.loc[person, task]/previous_assignments_df.loc[person, 'Rounds'])) * x[(person, task)] for person in people for task in tasks if is_eligible(person, task))\n"
   ]
  },
  {
   "cell_type": "markdown",
   "id": "5043c922-9b06-45ee-93ee-ad9291be1a03",
   "metadata": {},
   "source": [
    "# Constraints"
   ]
  },
  {
   "cell_type": "code",
   "execution_count": 443,
   "id": "7c123484-376a-4920-991d-32bb6847efec",
   "metadata": {
    "tags": []
   },
   "outputs": [],
   "source": [
    "# Only assign eligible people\n",
    "for person in people:\n",
    "    for task in tasks:\n",
    "        if not is_eligible(person, task):\n",
    "            prob += x[(person, task)] == 0\n",
    "\n",
    "# Do not assign a person to two excluded tasks\n",
    "for person in people:\n",
    "    for task1 in tasks:\n",
    "            for task2 in tasks:\n",
    "                if task1 != task2 and exclusions_df.loc[task1, task2] == 1:\n",
    "                    if is_eligible(person, task1) and is_eligible(person, task1):\n",
    "                        prob += x[(person, task1)] + x[(person, task2)] <= 1\n",
    "\n",
    "# Task limit constraints\n",
    "for person in people:\n",
    "    prob += lpSum(x[(person, task)] for task in tasks) <= 2\n",
    "\n",
    "# Task assignment constraints: each task is assigned to exactly one person\n",
    "for task in tasks:\n",
    "    prob += lpSum(x[(person, task)] for person in people) == 1"
   ]
  },
  {
   "cell_type": "code",
   "execution_count": 444,
   "id": "2bb89877-7fdf-4310-8ec0-5811e2229221",
   "metadata": {
    "tags": []
   },
   "outputs": [
    {
     "name": "stdout",
     "output_type": "stream",
     "text": [
      "Welcome to the CBC MILP Solver \n",
      "Version: 2.10.3 \n",
      "Build Date: Dec 15 2019 \n",
      "\n",
      "command line - /opt/anaconda3/lib/python3.11/site-packages/pulp/solverdir/cbc/osx/64/cbc /var/folders/4z/l87fr4g16qb0rxtm42zcxtym0000gn/T/c9251b6f9de34a99b0a5a308a5f1dc28-pulp.mps -max -timeMode elapsed -branch -printingOptions all -solution /var/folders/4z/l87fr4g16qb0rxtm42zcxtym0000gn/T/c9251b6f9de34a99b0a5a308a5f1dc28-pulp.sol (default strategy 1)\n",
      "At line 2 NAME          MODEL\n",
      "At line 3 ROWS\n",
      "At line 3119 COLUMNS\n",
      "At line 12853 RHS\n",
      "At line 15968 BOUNDS\n",
      "At line 16912 ENDATA\n",
      "Problem MODEL has 3114 rows, 943 columns and 7445 elements\n",
      "Coin0008I MODEL read with 0 errors\n",
      "Option for timeMode changed from cpu to elapsed\n",
      "Continuous objective value is 3.76737 - 0.00 seconds\n",
      "Cgl0002I 541 variables fixed\n",
      "Cgl0003I 0 fixed, 0 tightened bounds, 566 strengthened rows, 0 substitutions\n",
      "Cgl0003I 0 fixed, 0 tightened bounds, 599 strengthened rows, 0 substitutions\n",
      "Cgl0003I 0 fixed, 0 tightened bounds, 459 strengthened rows, 0 substitutions\n",
      "Cgl0003I 0 fixed, 0 tightened bounds, 270 strengthened rows, 0 substitutions\n",
      "Cgl0003I 0 fixed, 0 tightened bounds, 163 strengthened rows, 0 substitutions\n",
      "Cgl0003I 0 fixed, 0 tightened bounds, 109 strengthened rows, 0 substitutions\n",
      "Cgl0003I 0 fixed, 0 tightened bounds, 87 strengthened rows, 0 substitutions\n",
      "Cgl0003I 0 fixed, 0 tightened bounds, 52 strengthened rows, 0 substitutions\n",
      "Cgl0003I 0 fixed, 0 tightened bounds, 44 strengthened rows, 0 substitutions\n",
      "Cgl0004I processed model has 280 rows, 397 columns (397 integer (397 of which binary)) and 1903 elements\n",
      "Cbc0038I Initial state - 0 integers unsatisfied sum - 0\n",
      "Cbc0038I Solution found of -3.76737\n",
      "Cbc0038I Before mini branch and bound, 397 integers at bound fixed and 0 continuous\n",
      "Cbc0038I Mini branch and bound did not improve solution (0.11 seconds)\n",
      "Cbc0038I After 0.11 seconds - Feasibility pump exiting with objective of -3.76737 - took 0.00 seconds\n",
      "Cbc0012I Integer solution of -3.7673731 found by feasibility pump after 0 iterations and 0 nodes (0.11 seconds)\n",
      "Cbc0001I Search completed - best objective -3.767373111825351, took 0 iterations and 0 nodes (0.11 seconds)\n",
      "Cbc0035I Maximum depth 0, 0 variables fixed on reduced cost\n",
      "Cuts at root node changed objective from -3.76737 to -3.76737\n",
      "Probing was tried 0 times and created 0 cuts of which 0 were active after adding rounds of cuts (0.000 seconds)\n",
      "Gomory was tried 0 times and created 0 cuts of which 0 were active after adding rounds of cuts (0.000 seconds)\n",
      "Knapsack was tried 0 times and created 0 cuts of which 0 were active after adding rounds of cuts (0.000 seconds)\n",
      "Clique was tried 0 times and created 0 cuts of which 0 were active after adding rounds of cuts (0.000 seconds)\n",
      "MixedIntegerRounding2 was tried 0 times and created 0 cuts of which 0 were active after adding rounds of cuts (0.000 seconds)\n",
      "FlowCover was tried 0 times and created 0 cuts of which 0 were active after adding rounds of cuts (0.000 seconds)\n",
      "TwoMirCuts was tried 0 times and created 0 cuts of which 0 were active after adding rounds of cuts (0.000 seconds)\n",
      "ZeroHalf was tried 0 times and created 0 cuts of which 0 were active after adding rounds of cuts (0.000 seconds)\n",
      "\n",
      "Result - Optimal solution found\n",
      "\n",
      "Objective value:                3.76737311\n",
      "Enumerated nodes:               0\n",
      "Total iterations:               0\n",
      "Time (CPU seconds):             0.11\n",
      "Time (Wallclock seconds):       0.12\n",
      "\n",
      "Option for printingOptions changed from normal to all\n",
      "Total time (CPU seconds):       0.12   (Wallclock seconds):       0.13\n",
      "\n"
     ]
    }
   ],
   "source": [
    "# Solve the problem\n",
    "result = prob.solve()\n",
    "\n",
    "# Output the results\n",
    "assignment = {}\n",
    "for person in people:\n",
    "    assigned_tasks = [task for task in tasks if x[(person, task)].varValue == 1]\n",
    "    if assigned_tasks:\n",
    "        assignment[person] = assigned_tasks\n",
    "        for task in assigned_tasks:\n",
    "            if eligibility_df.loc[person, task] != 1:\n",
    "                print(f\"{person} is NOT eligilbe for {task}\")"
   ]
  },
  {
   "cell_type": "markdown",
   "id": "bc956983-d5ad-4bb9-b972-a7e5a5977f81",
   "metadata": {},
   "source": [
    "# Output"
   ]
  },
  {
   "cell_type": "code",
   "execution_count": 446,
   "id": "4738bfd5-6449-4c28-a2d6-a2a1656ce231",
   "metadata": {},
   "outputs": [],
   "source": [
    "\n",
    "# Output the results\n",
    "assignments = pd.DataFrame(0, index=people, columns=tasks)\n",
    "for person in people:\n",
    "    for task in tasks:\n",
    "        assignments.loc[person, task] = 1 if x[(person, task)].varValue == 1.0 else 0\n",
    "\n",
    "# Update the previous assignments with the current ones\n",
    "for person in people:\n",
    "    for task in tasks:\n",
    "        if assignments.loc[person, task]:\n",
    "            previous_assignments_df.loc[person, task] += 1\n",
    "\n",
    "# Save the updated assignments to a CSV file\n",
    "previous_assignments_df.to_csv(assignments_file)\n"
   ]
  },
  {
   "cell_type": "code",
   "execution_count": 447,
   "id": "14512686-45f5-4200-8c84-b484df8a2392",
   "metadata": {},
   "outputs": [
    {
     "name": "stdout",
     "output_type": "stream",
     "text": [
      "first_opening_prayer: Love, Chris\n",
      "first_lesson: Nunn, Jeff\n",
      "first_song_leader: Vinson, Joe\n",
      "announcements: McAlister, Brady\n",
      "song_leader: Schiffman, Bobby\n",
      "scripture_reading: McAlister, Grady\n",
      "opening_prayer: McAnear, Justus\n",
      "closing_prayer: Gray, Allen\n",
      "table_lead_bread: Taylor, Keith\n",
      "table_lead_cup: Earp, Wyatt\n",
      "table_aid_bread: Melvyn, Joe\n",
      "table_aid_cup: McAnear, Jaxan\n",
      "lesson: Byers, Austin\n",
      "wednesday_announcements: Taylor, Keith\n",
      "wednesday_song_leader: Byers, Austin\n",
      "wednesday_opening_prayer: Purcell, Tripp\n",
      "wednesday_lesson: Tipton, Sam\n",
      "wednesday_closing_prayer: Gray, Allen\n",
      "lords_supper_prep: Hight, Ben\n",
      "usher: Hight, Ben\n",
      "alt_usher: Nunn, Sam\n",
      "security: Warren, David\n",
      "sound_board_operator: Smiley, Justin\n"
     ]
    },
    {
     "data": {
      "text/plain": [
       "(19, 23)"
      ]
     },
     "execution_count": 447,
     "metadata": {},
     "output_type": "execute_result"
    }
   ],
   "source": [
    "\n",
    "schedule = OrderedDict({task : [person for person in assignment.keys() if task in assignment[person]][0] for task in tasks})\n",
    "\n",
    "for key, value in list(schedule.items()):\n",
    "    print(f\"{key}: {value}\")\n",
    "    \n",
    "assignments.loc[(assignments!=0).any(axis=1)].shape"
   ]
  }
 ],
 "metadata": {
  "kernelspec": {
   "display_name": "Python 3 (ipykernel)",
   "language": "python",
   "name": "python3"
  },
  "language_info": {
   "codemirror_mode": {
    "name": "ipython",
    "version": 3
   },
   "file_extension": ".py",
   "mimetype": "text/x-python",
   "name": "python",
   "nbconvert_exporter": "python",
   "pygments_lexer": "ipython3",
   "version": "3.11.7"
  }
 },
 "nbformat": 4,
 "nbformat_minor": 5
}
