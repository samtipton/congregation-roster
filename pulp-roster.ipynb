{
 "cells": [
  {
   "cell_type": "code",
   "execution_count": 6,
   "id": "8d1a42b9-6eba-46c2-a5e5-efab482a6776",
   "metadata": {
    "tags": []
   },
   "outputs": [],
   "source": [
    "import pandas as pd\n",
    "from pulp import LpMaximize, LpProblem, LpVariable, lpSum"
   ]
  },
  {
   "cell_type": "code",
   "execution_count": 8,
   "id": "bba9883c-d68c-47b4-aa2d-d4beaf71de0c",
   "metadata": {
    "tags": []
   },
   "outputs": [],
   "source": [
    "# Read eligibility matrix\n",
    "eligibility_df = pd.read_csv('men.csv', index_col=0)\n",
    "\n",
    "# Read adjacency matrix\n",
    "adjacency_df = pd.read_csv('exclusions.csv', index_col=0)"
   ]
  },
  {
   "cell_type": "code",
   "execution_count": 10,
   "id": "afc15647-a4bc-415e-9a52-3955c8fa5647",
   "metadata": {
    "tags": []
   },
   "outputs": [],
   "source": [
    "# helper functions\n",
    "def is_eligible(person, task) -> bool:\n",
    "    return eligibility_df.at[person, task] == 1.0\n",
    "\n",
    "def rotate_list(lst, n):\n",
    "    return lst[n:] + lst[:n]"
   ]
  },
  {
   "cell_type": "code",
   "execution_count": 24,
   "id": "a963f851-9cf6-4830-8e38-3db625517d86",
   "metadata": {
    "tags": []
   },
   "outputs": [],
   "source": [
    "# round-robin seed\n",
    "seed = 1\n",
    "\n",
    "# List of people and tasks\n",
    "people = list(eligibility_df.index)\n",
    "people = rotate_list(people, len(people) % seed)\n",
    "tasks = list(eligibility_df.columns)"
   ]
  },
  {
   "cell_type": "code",
   "execution_count": 26,
   "id": "f228d617-d4af-49cc-bad1-ad04012e2c3f",
   "metadata": {
    "tags": []
   },
   "outputs": [],
   "source": [
    "# Create the LP problem\n",
    "prob = LpProblem(\"Task_Assignment\", LpMaximize)\n",
    "\n",
    "# Define decision variables\n",
    "x = LpVariable.dicts(\"assign\", ((person, task) for person in people for task in tasks), cat='Binary')\n",
    "y = LpVariable.dicts(\"assigned\", people, cat='Binary')\n",
    "\n",
    "###\n",
    "# Objective function: Maximize the number of unique people assigned\n",
    "###\n",
    "prob += lpSum(y[person] for person in people)"
   ]
  },
  {
   "cell_type": "code",
   "execution_count": 28,
   "id": "7c123484-376a-4920-991d-32bb6847efec",
   "metadata": {
    "tags": []
   },
   "outputs": [],
   "source": [
    "# Only assign eligible people\n",
    "for person in people:\n",
    "    for task in tasks:\n",
    "        if not is_eligible(person, task):\n",
    "            prob += x[(person, task)] == 0\n",
    "\n",
    "# Ensure y is 1 if person is assigned to at least one task\n",
    "for person in people:\n",
    "    prob += y[person] <= lpSum(x[(person, task)] for task in tasks)\n",
    "    # prob += y[person] >= 0.1 * lpSum(x[(person, task)] for task in tasks)\n",
    "\n",
    "# Do not assign a person to two excluded tasks\n",
    "for person in people:\n",
    "    for task1 in tasks:\n",
    "            for task2 in tasks:\n",
    "                if task1 != task2 and adjacency_df.loc[task1, task2] == 1:\n",
    "                    if is_eligible(person, task1) and is_eligible(person, task1):\n",
    "                        prob += x[(person, task1)] + x[(person, task2)] <= 1\n",
    "\n",
    "# Task limit constraints\n",
    "for person in people:\n",
    "    prob += lpSum(x[(person, task)] for task in tasks) <= 2\n",
    "\n",
    "# Task assignment constraints: each task is assigned to exactly one person\n",
    "for task in tasks:\n",
    "    prob += lpSum(x[(person, task)] for person in people) == 1"
   ]
  },
  {
   "cell_type": "code",
   "execution_count": 30,
   "id": "2bb89877-7fdf-4310-8ec0-5811e2229221",
   "metadata": {
    "tags": []
   },
   "outputs": [
    {
     "name": "stdout",
     "output_type": "stream",
     "text": [
      "Welcome to the CBC MILP Solver \n",
      "Version: 2.10.3 \n",
      "Build Date: Dec 15 2019 \n",
      "\n",
      "command line - /opt/anaconda3/lib/python3.11/site-packages/pulp/solverdir/cbc/osx/64/cbc /var/folders/4z/l87fr4g16qb0rxtm42zcxtym0000gn/T/6dd49b3f9f844d40bfc588af096ae389-pulp.mps -max -timeMode elapsed -branch -printingOptions all -solution /var/folders/4z/l87fr4g16qb0rxtm42zcxtym0000gn/T/6dd49b3f9f844d40bfc588af096ae389-pulp.sol (default strategy 1)\n",
      "At line 2 NAME          MODEL\n",
      "At line 3 ROWS\n",
      "At line 3310 COLUMNS\n",
      "At line 14161 RHS\n",
      "At line 17467 BOUNDS\n",
      "At line 18476 ENDATA\n",
      "Problem MODEL has 3305 rows, 1008 columns and 8792 elements\n",
      "Coin0008I MODEL read with 0 errors\n",
      "Option for timeMode changed from cpu to elapsed\n",
      "Continuous objective value is 23 - 0.01 seconds\n",
      "Cgl0002I 549 variables fixed\n",
      "Cgl0003I 0 fixed, 0 tightened bounds, 624 strengthened rows, 0 substitutions\n",
      "Cgl0003I 0 fixed, 0 tightened bounds, 666 strengthened rows, 0 substitutions\n",
      "Cgl0003I 0 fixed, 0 tightened bounds, 515 strengthened rows, 0 substitutions\n",
      "Cgl0003I 0 fixed, 0 tightened bounds, 304 strengthened rows, 0 substitutions\n",
      "Cgl0003I 0 fixed, 0 tightened bounds, 182 strengthened rows, 0 substitutions\n",
      "Cgl0003I 0 fixed, 0 tightened bounds, 116 strengthened rows, 0 substitutions\n",
      "Cgl0003I 0 fixed, 0 tightened bounds, 95 strengthened rows, 0 substitutions\n",
      "Cgl0003I 0 fixed, 0 tightened bounds, 60 strengthened rows, 0 substitutions\n",
      "Cgl0003I 0 fixed, 0 tightened bounds, 49 strengthened rows, 0 substitutions\n",
      "Cgl0004I processed model has 334 rows, 452 columns (452 integer (452 of which binary)) and 2493 elements\n",
      "Cutoff increment increased from 1e-05 to 0.9999\n",
      "Cbc0045I 35 integer variables out of 452 objects (452 integer) have cost of -1 - high priority\n",
      "Cbc0045I branch on satisfied N create fake objective Y random cost Y\n",
      "Cbc0038I Initial state - 0 integers unsatisfied sum - 0\n",
      "Cbc0038I Solution found of -23\n",
      "Cbc0038I Before mini branch and bound, 452 integers at bound fixed and 0 continuous\n",
      "Cbc0038I Mini branch and bound did not improve solution (0.12 seconds)\n",
      "Cbc0038I After 0.12 seconds - Feasibility pump exiting with objective of -23 - took 0.00 seconds\n",
      "Cbc0012I Integer solution of -23 found by feasibility pump after 0 iterations and 0 nodes (0.12 seconds)\n",
      "Cbc0001I Search completed - best objective -23, took 0 iterations and 0 nodes (0.12 seconds)\n",
      "Cbc0035I Maximum depth 0, 0 variables fixed on reduced cost\n",
      "Cuts at root node changed objective from -23 to -23\n",
      "Probing was tried 0 times and created 0 cuts of which 0 were active after adding rounds of cuts (0.000 seconds)\n",
      "Gomory was tried 0 times and created 0 cuts of which 0 were active after adding rounds of cuts (0.000 seconds)\n",
      "Knapsack was tried 0 times and created 0 cuts of which 0 were active after adding rounds of cuts (0.000 seconds)\n",
      "Clique was tried 0 times and created 0 cuts of which 0 were active after adding rounds of cuts (0.000 seconds)\n",
      "MixedIntegerRounding2 was tried 0 times and created 0 cuts of which 0 were active after adding rounds of cuts (0.000 seconds)\n",
      "FlowCover was tried 0 times and created 0 cuts of which 0 were active after adding rounds of cuts (0.000 seconds)\n",
      "TwoMirCuts was tried 0 times and created 0 cuts of which 0 were active after adding rounds of cuts (0.000 seconds)\n",
      "ZeroHalf was tried 0 times and created 0 cuts of which 0 were active after adding rounds of cuts (0.000 seconds)\n",
      "\n",
      "Result - Optimal solution found\n",
      "\n",
      "Objective value:                23.00000000\n",
      "Enumerated nodes:               0\n",
      "Total iterations:               0\n",
      "Time (CPU seconds):             0.13\n",
      "Time (Wallclock seconds):       0.13\n",
      "\n",
      "Option for printingOptions changed from normal to all\n",
      "Total time (CPU seconds):       0.13   (Wallclock seconds):       0.14\n",
      "\n"
     ]
    }
   ],
   "source": [
    "# Solve the problem\n",
    "result = prob.solve()\n",
    "\n",
    "# Output the results\n",
    "assignment = {}\n",
    "for person in people:\n",
    "    assigned_tasks = [task for task in tasks if x[(person, task)].varValue == 1]\n",
    "    if assigned_tasks:\n",
    "        assignment[person] = assigned_tasks"
   ]
  },
  {
   "cell_type": "code",
   "execution_count": 22,
   "id": "0c07fa29-57a6-4069-8953-f127d770d75d",
   "metadata": {
    "tags": []
   },
   "outputs": [
    {
     "name": "stdout",
     "output_type": "stream",
     "text": [
      "first_opening_prayer: Tipton, Dayle\n",
      "first_lesson: Smiley, Justin\n",
      "first_song_leader: Vinson, Joe\n",
      "announcements: Nunn, Jeff\n",
      "song_leader: Tipton, Sam\n",
      "scripture_reading: Stroik, Darrin\n",
      "opening_prayer: Taylor, Keith\n",
      "closing_prayer: Purcell, Tripp\n",
      "table_lead_bread: Warren, David\n",
      "table_lead_cup: Purcell, Lance\n",
      "table_aid_bread: McAnear, Jaxan\n",
      "table_aid_cup: Ledbetter, Patrick\n",
      "lesson: Byers, Austin\n",
      "wednesday_announcements: Nunn, Sam\n",
      "wednesday_song_leader: McAlister, Benson\n",
      "wednesday_opening_prayer: McAnear, Justus\n",
      "wednesday_lesson: Scott, Rusty\n",
      "wednesday_closing_prayer: Love, Chris\n",
      "lords_supper_prep: Hight, Ben\n",
      "usher: McAnear, Walker\n",
      "alt_usher: Yontz, Trevor\n",
      "security: Evans, Barret\n",
      "sound_board_operator: McAlister, Grady\n"
     ]
    }
   ],
   "source": [
    "from collections import OrderedDict\n",
    "schedule = OrderedDict({task : [person for person in assignment.keys() if task in assignment[person]][0] for task in tasks})\n",
    "for key, value in list(schedule.items()):\n",
    "    print(f\"{key}: {value}\")"
   ]
  },
  {
   "cell_type": "code",
   "execution_count": null,
   "id": "4738bfd5-6449-4c28-a2d6-a2a1656ce231",
   "metadata": {},
   "outputs": [],
   "source": []
  },
  {
   "cell_type": "code",
   "execution_count": null,
   "id": "1af66cbd-a15a-46f7-bf87-b23f811c84f1",
   "metadata": {},
   "outputs": [],
   "source": []
  },
  {
   "cell_type": "code",
   "execution_count": null,
   "id": "1a362804-3c3c-4847-804e-9a55db11b2ed",
   "metadata": {},
   "outputs": [],
   "source": []
  }
 ],
 "metadata": {
  "kernelspec": {
   "display_name": "Python 3 (ipykernel)",
   "language": "python",
   "name": "python3"
  },
  "language_info": {
   "codemirror_mode": {
    "name": "ipython",
    "version": 3
   },
   "file_extension": ".py",
   "mimetype": "text/x-python",
   "name": "python",
   "nbconvert_exporter": "python",
   "pygments_lexer": "ipython3",
   "version": "3.11.7"
  }
 },
 "nbformat": 4,
 "nbformat_minor": 5
}
